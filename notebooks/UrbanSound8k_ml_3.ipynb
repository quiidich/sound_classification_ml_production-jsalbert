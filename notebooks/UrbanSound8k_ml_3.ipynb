{
  "nbformat": 4,
  "nbformat_minor": 0,
  "metadata": {
    "colab": {
      "name": "UrbanSound8k_machine_learning.ipynb",
      "provenance": [],
      "gpuType": "T4"
    },
    "kernelspec": {
      "name": "python3",
      "display_name": "Python 3"
    },
    "accelerator": "GPU"
  },
  "cells": [
    {
      "cell_type": "markdown",
      "metadata": {
        "id": "cAR2KCeZGVX3"
      },
      "source": [
        "# Applying Machine Learning on UrbanSound8k"
      ]
    },
    {
      "cell_type": "markdown",
      "metadata": {
        "id": "USPAMetFGQ7O"
      },
      "source": [
        "## Install Packages\n",
        "\n",
        "We install:\n",
        "- Machine learning libraries: `Keras`, `sklearn`\n",
        "- Audio processing: `librosa`\n",
        "- Plots: `Plotly`, `matplotlib`"
      ]
    },
    {
      "cell_type": "code",
      "metadata": {
        "id": "MrVjHhS40MZM"
      },
      "source": [
        "import os\n",
        "import time\n",
        "import librosa\n",
        "import zipfile\n",
        "import numpy as np\n",
        "import pandas as pd\n",
        "import librosa.display\n",
        "import matplotlib.pyplot as plt\n",
        "import plotly.graph_objects as go\n",
        "from PIL import Image"
      ],
      "execution_count": 65,
      "outputs": []
    },
    {
      "cell_type": "code",
      "source": [
        "from google.colab import drive\n",
        "drive.mount('/content/gdrive/')"
      ],
      "metadata": {
        "colab": {
          "base_uri": "https://localhost:8080/"
        },
        "id": "NA_prGkx8N7P",
        "outputId": "c9f3bbc1-d91b-42ef-9ec2-e2ed57dc5fc3"
      },
      "execution_count": 66,
      "outputs": [
        {
          "output_type": "stream",
          "name": "stdout",
          "text": [
            "Drive already mounted at /content/gdrive/; to attempt to forcibly remount, call drive.mount(\"/content/gdrive/\", force_remount=True).\n"
          ]
        }
      ]
    },
    {
      "cell_type": "code",
      "metadata": {
        "id": "HfDBipkQz1RF"
      },
      "source": [
        "import pickle\n",
        "with open('gdrive/MyDrive/urbansound8k/dataset_df.pickle','rb') as f:\n",
        "     dataset_df = pickle.load(f)"
      ],
      "execution_count": 67,
      "outputs": []
    },
    {
      "cell_type": "code",
      "metadata": {
        "id": "5-k-OKxXqkwh",
        "outputId": "ee7aa460-efb2-48c0-d065-e63cffe59c87",
        "colab": {
          "base_uri": "https://localhost:8080/"
        }
      },
      "source": [
        "# Split the dataset\n",
        "from sklearn.model_selection import train_test_split\n",
        "\n",
        "# Add one dimension for the channel\n",
        "X = np.array(dataset_df['features'].tolist())\n",
        "y = np.array(dataset_df['labels_categorical'].tolist())\n",
        "\n",
        "# As there is unbalance for some classes I am going to stratify it so we have the same proportion in train/test\n",
        "X_train, X_test, Y_train, Y_test = train_test_split(X,\n",
        "                                                    y,\n",
        "                                                    test_size=0.30,\n",
        "                                                    random_state=1,\n",
        "                                                    stratify=y)\n",
        "# Create validation and test\n",
        "X_test, X_val, Y_test, Y_val = train_test_split(X_test,\n",
        "                                                Y_test,\n",
        "                                                test_size=0.5,\n",
        "                                                random_state=1,\n",
        "                                                stratify=Y_test)\n",
        "\n",
        "X_train = X_train.reshape(-1,39,174,1)\n",
        "X_val = X_val.reshape(-1,39,174,1)\n",
        "X_test = X_test.reshape(-1,39,174,1)\n",
        "print(X_train.shape, X_val.shape, X_test.shape)"
      ],
      "execution_count": 70,
      "outputs": [
        {
          "output_type": "stream",
          "name": "stdout",
          "text": [
            "(6112, 39, 174, 1) (1310, 39, 174, 1) (1310, 39, 174, 1)\n"
          ]
        }
      ]
    },
    {
      "cell_type": "markdown",
      "metadata": {
        "id": "3mbA_78g6iUa"
      },
      "source": [
        "## Machine Learning Model"
      ]
    },
    {
      "cell_type": "markdown",
      "metadata": {
        "id": "0UXoQEZ16pjr"
      },
      "source": [
        "### Model Design"
      ]
    },
    {
      "cell_type": "markdown",
      "metadata": {
        "id": "M-sygDIE29Og"
      },
      "source": [
        "We are going to create a **Fully Convolutional Network** Model using Keras running over Tensorflow with a few layers."
      ]
    },
    {
      "cell_type": "code",
      "metadata": {
        "id": "ko1n0Tla3n1y"
      },
      "source": [
        "from keras.models import Sequential\n",
        "from keras.layers import Input, Dense, Dropout, Activation, Flatten\n",
        "from keras.layers import Convolution2D, Conv2D, MaxPooling2D, GlobalAveragePooling2D"
      ],
      "execution_count": 71,
      "outputs": []
    },
    {
      "cell_type": "markdown",
      "metadata": {
        "id": "y589P2Qm_AuG"
      },
      "source": [
        "As our images are rectangular in shape (y axis is MFCC, x axis is time), instead of using square filters (as usual) we are going to make them rectangular so they can learn better the correlation of the MFCCs with the temporal dimension."
      ]
    },
    {
      "cell_type": "code",
      "metadata": {
        "id": "FdM5w8r1kMgs"
      },
      "source": [
        "# FCN Model\n",
        "def create_model(num_classes=10, input_shape=None, dropout_ratio=None):\n",
        "    model = Sequential()\n",
        "    if input_shape is None:\n",
        "        model.add(Input(shape=(None, None, 1)))\n",
        "    else:\n",
        "        model.add(Input(shape=input_shape))\n",
        "    model.add(Conv2D(filters=16, kernel_size=(2, 4), activation='relu'))\n",
        "    model.add(MaxPooling2D(pool_size=(2, 3)))\n",
        "    model.add(Conv2D(filters=32, kernel_size=(2, 4), activation='relu'))\n",
        "    model.add(MaxPooling2D(pool_size=2))\n",
        "    model.add(Conv2D(filters=64, kernel_size=(2, 4), activation='relu'))\n",
        "    model.add(MaxPooling2D(pool_size=2))\n",
        "    model.add(Conv2D(filters=128, kernel_size=(2, 4), activation='relu'))\n",
        "    model.add(GlobalAveragePooling2D())\n",
        "    if dropout_ratio is not None:\n",
        "        model.add(Dropout(dropout_ratio))\n",
        "    # Add dense linear layer\n",
        "    model.add(Dense(num_classes, activation='softmax'))\n",
        "    return model"
      ],
      "execution_count": 72,
      "outputs": []
    },
    {
      "cell_type": "markdown",
      "metadata": {
        "id": "Qj73VymN-ueo"
      },
      "source": [
        "As it is a multi classification problem we will use the **Categorical Cross Entropy loss**. As optimizer we will use the Keras implementation of **Adam** with the default hyperparameters values."
      ]
    },
    {
      "cell_type": "code",
      "metadata": {
        "id": "Vaj8BrhD4cyH",
        "outputId": "9576df10-f95c-4d9e-c881-423c3931c8e2",
        "colab": {
          "base_uri": "https://localhost:8080/"
        }
      },
      "source": [
        "# Create and compile the model\n",
        "fcn_model = create_model(input_shape=X_train.shape[1:])\n",
        "fcn_model.compile(loss='categorical_crossentropy', metrics=['accuracy'], optimizer='adam')\n",
        "fcn_model.summary()"
      ],
      "execution_count": 73,
      "outputs": [
        {
          "output_type": "stream",
          "name": "stdout",
          "text": [
            "Model: \"sequential_9\"\n",
            "_________________________________________________________________\n",
            " Layer (type)                Output Shape              Param #   \n",
            "=================================================================\n",
            " conv2d_9 (Conv2D)           (None, 38, 171, 16)       144       \n",
            "                                                                 \n",
            " max_pooling2d (MaxPooling2  (None, 19, 57, 16)        0         \n",
            " D)                                                              \n",
            "                                                                 \n",
            " conv2d_10 (Conv2D)          (None, 18, 54, 32)        4128      \n",
            "                                                                 \n",
            " max_pooling2d_1 (MaxPoolin  (None, 9, 27, 32)         0         \n",
            " g2D)                                                            \n",
            "                                                                 \n",
            " conv2d_11 (Conv2D)          (None, 8, 24, 64)         16448     \n",
            "                                                                 \n",
            " max_pooling2d_2 (MaxPoolin  (None, 4, 12, 64)         0         \n",
            " g2D)                                                            \n",
            "                                                                 \n",
            " conv2d_12 (Conv2D)          (None, 3, 9, 128)         65664     \n",
            "                                                                 \n",
            " global_average_pooling2d (  (None, 128)               0         \n",
            " GlobalAveragePooling2D)                                         \n",
            "                                                                 \n",
            " dense (Dense)               (None, 10)                1290      \n",
            "                                                                 \n",
            "=================================================================\n",
            "Total params: 87674 (342.48 KB)\n",
            "Trainable params: 87674 (342.48 KB)\n",
            "Non-trainable params: 0 (0.00 Byte)\n",
            "_________________________________________________________________\n"
          ]
        }
      ]
    },
    {
      "cell_type": "markdown",
      "metadata": {
        "id": "tWTJXf4B6uNW"
      },
      "source": [
        "### Model training and evaluation"
      ]
    },
    {
      "cell_type": "code",
      "metadata": {
        "id": "lBxKnyeo64TG"
      },
      "source": [
        "from keras.models import load_model\n",
        "from keras.callbacks import ModelCheckpoint"
      ],
      "execution_count": 74,
      "outputs": []
    },
    {
      "cell_type": "code",
      "metadata": {
        "id": "qTT0_wO27AFy"
      },
      "source": [
        "!mkdir saved_models"
      ],
      "execution_count": 75,
      "outputs": []
    },
    {
      "cell_type": "code",
      "metadata": {
        "id": "N1hJEl2f5JLI"
      },
      "source": [
        "def train_model(model, X_train, Y_train, X_val, Y_val, epochs, batch_size, callbacks):\n",
        "    model.fit(X_train,\n",
        "              Y_train,\n",
        "              batch_size=batch_size,\n",
        "              epochs=epochs,\n",
        "              validation_data=(X_val, Y_val),\n",
        "              callbacks=callbacks, verbose=1)\n",
        "    return model"
      ],
      "execution_count": 76,
      "outputs": []
    },
    {
      "cell_type": "markdown",
      "metadata": {
        "id": "ZfzcdmYtETt3"
      },
      "source": [
        "We will create a checkpoint for **early stopping**, so we will select the model that performs better on the validation set.\n",
        "\n",
        "Creating a function to train the model will allow us to perform hyperparameter tuning faster."
      ]
    },
    {
      "cell_type": "code",
      "metadata": {
        "id": "Nt9Q7KQ67WmV"
      },
      "source": [
        "checkpointer = ModelCheckpoint(filepath='saved_models/best_fcn.hdf5', monitor='val_accuracy', verbose=1, save_best_only=True)\n",
        "callbacks = [checkpointer]\n",
        "\n",
        "# Hyper-parameters\n",
        "epochs = 100\n",
        "batch_size = 256"
      ],
      "execution_count": 77,
      "outputs": []
    },
    {
      "cell_type": "code",
      "metadata": {
        "id": "5IB-m4c17E7e",
        "outputId": "688526c4-62e0-46d8-ba60-3e7899c8d40b",
        "colab": {
          "base_uri": "https://localhost:8080/"
        }
      },
      "source": [
        "# Train the model\n",
        "model = train_model(model=fcn_model,\n",
        "                    X_train=X_train,\n",
        "                    X_val=X_val,\n",
        "                    Y_train=Y_train,\n",
        "                    Y_val=Y_val,\n",
        "                    epochs=epochs,\n",
        "                    batch_size=batch_size,\n",
        "                    callbacks=callbacks)"
      ],
      "execution_count": 78,
      "outputs": [
        {
          "output_type": "stream",
          "name": "stdout",
          "text": [
            "Epoch 1/100\n",
            "24/24 [==============================] - ETA: 0s - loss: 1.8066 - accuracy: 0.3855\n",
            "Epoch 1: val_accuracy improved from -inf to 0.49618, saving model to saved_models/best_fcn.hdf5\n",
            "24/24 [==============================] - 13s 55ms/step - loss: 1.8066 - accuracy: 0.3855 - val_loss: 1.4339 - val_accuracy: 0.4962\n",
            "Epoch 2/100\n",
            " 7/24 [=======>......................] - ETA: 0s - loss: 1.3526 - accuracy: 0.5257"
          ]
        },
        {
          "output_type": "stream",
          "name": "stderr",
          "text": [
            "/usr/local/lib/python3.10/dist-packages/keras/src/engine/training.py:3079: UserWarning: You are saving your model as an HDF5 file via `model.save()`. This file format is considered legacy. We recommend using instead the native Keras format, e.g. `model.save('my_model.keras')`.\n",
            "  saving_api.save_model(\n"
          ]
        },
        {
          "output_type": "stream",
          "name": "stdout",
          "text": [
            "22/24 [==========================>...] - ETA: 0s - loss: 1.2711 - accuracy: 0.5558\n",
            "Epoch 2: val_accuracy improved from 0.49618 to 0.58702, saving model to saved_models/best_fcn.hdf5\n",
            "24/24 [==============================] - 1s 24ms/step - loss: 1.2652 - accuracy: 0.5551 - val_loss: 1.2082 - val_accuracy: 0.5870\n",
            "Epoch 3/100\n",
            "22/24 [==========================>...] - ETA: 0s - loss: 1.1193 - accuracy: 0.6255\n",
            "Epoch 3: val_accuracy improved from 0.58702 to 0.61679, saving model to saved_models/best_fcn.hdf5\n",
            "24/24 [==============================] - 1s 25ms/step - loss: 1.1061 - accuracy: 0.6294 - val_loss: 1.0804 - val_accuracy: 0.6168\n",
            "Epoch 4/100\n",
            "22/24 [==========================>...] - ETA: 0s - loss: 0.9778 - accuracy: 0.6587\n",
            "Epoch 4: val_accuracy improved from 0.61679 to 0.64962, saving model to saved_models/best_fcn.hdf5\n",
            "24/24 [==============================] - 1s 25ms/step - loss: 0.9805 - accuracy: 0.6564 - val_loss: 0.9904 - val_accuracy: 0.6496\n",
            "Epoch 5/100\n",
            "22/24 [==========================>...] - ETA: 0s - loss: 0.9323 - accuracy: 0.6777\n",
            "Epoch 5: val_accuracy improved from 0.64962 to 0.69618, saving model to saved_models/best_fcn.hdf5\n",
            "24/24 [==============================] - 1s 24ms/step - loss: 0.9268 - accuracy: 0.6814 - val_loss: 0.9187 - val_accuracy: 0.6962\n",
            "Epoch 6/100\n",
            "22/24 [==========================>...] - ETA: 0s - loss: 0.8356 - accuracy: 0.7223\n",
            "Epoch 6: val_accuracy did not improve from 0.69618\n",
            "24/24 [==============================] - 1s 23ms/step - loss: 0.8352 - accuracy: 0.7232 - val_loss: 0.9154 - val_accuracy: 0.6817\n",
            "Epoch 7/100\n",
            "22/24 [==========================>...] - ETA: 0s - loss: 0.8010 - accuracy: 0.7310\n",
            "Epoch 7: val_accuracy improved from 0.69618 to 0.71679, saving model to saved_models/best_fcn.hdf5\n",
            "24/24 [==============================] - 1s 25ms/step - loss: 0.8013 - accuracy: 0.7305 - val_loss: 0.8234 - val_accuracy: 0.7168\n",
            "Epoch 8/100\n",
            "22/24 [==========================>...] - ETA: 0s - loss: 0.7260 - accuracy: 0.7546\n",
            "Epoch 8: val_accuracy improved from 0.71679 to 0.74885, saving model to saved_models/best_fcn.hdf5\n",
            "24/24 [==============================] - 1s 25ms/step - loss: 0.7232 - accuracy: 0.7567 - val_loss: 0.7846 - val_accuracy: 0.7489\n",
            "Epoch 9/100\n",
            "22/24 [==========================>...] - ETA: 0s - loss: 0.6585 - accuracy: 0.7756\n",
            "Epoch 9: val_accuracy improved from 0.74885 to 0.75573, saving model to saved_models/best_fcn.hdf5\n",
            "24/24 [==============================] - 1s 24ms/step - loss: 0.6674 - accuracy: 0.7726 - val_loss: 0.7493 - val_accuracy: 0.7557\n",
            "Epoch 10/100\n",
            "22/24 [==========================>...] - ETA: 0s - loss: 0.6452 - accuracy: 0.7804\n",
            "Epoch 10: val_accuracy improved from 0.75573 to 0.75649, saving model to saved_models/best_fcn.hdf5\n",
            "24/24 [==============================] - 1s 25ms/step - loss: 0.6446 - accuracy: 0.7788 - val_loss: 0.7101 - val_accuracy: 0.7565\n",
            "Epoch 11/100\n",
            "22/24 [==========================>...] - ETA: 0s - loss: 0.5955 - accuracy: 0.8052\n",
            "Epoch 11: val_accuracy improved from 0.75649 to 0.78855, saving model to saved_models/best_fcn.hdf5\n",
            "24/24 [==============================] - 1s 24ms/step - loss: 0.5926 - accuracy: 0.8060 - val_loss: 0.6753 - val_accuracy: 0.7885\n",
            "Epoch 12/100\n",
            "22/24 [==========================>...] - ETA: 0s - loss: 0.5793 - accuracy: 0.8045\n",
            "Epoch 12: val_accuracy did not improve from 0.78855\n",
            "24/24 [==============================] - 1s 23ms/step - loss: 0.5783 - accuracy: 0.8050 - val_loss: 0.6580 - val_accuracy: 0.7718\n",
            "Epoch 13/100\n",
            "22/24 [==========================>...] - ETA: 0s - loss: 0.5483 - accuracy: 0.8159\n",
            "Epoch 13: val_accuracy improved from 0.78855 to 0.81069, saving model to saved_models/best_fcn.hdf5\n",
            "24/24 [==============================] - 1s 25ms/step - loss: 0.5520 - accuracy: 0.8138 - val_loss: 0.6206 - val_accuracy: 0.8107\n",
            "Epoch 14/100\n",
            "22/24 [==========================>...] - ETA: 0s - loss: 0.5129 - accuracy: 0.8269\n",
            "Epoch 14: val_accuracy improved from 0.81069 to 0.81145, saving model to saved_models/best_fcn.hdf5\n",
            "24/24 [==============================] - 1s 27ms/step - loss: 0.5101 - accuracy: 0.8280 - val_loss: 0.6065 - val_accuracy: 0.8115\n",
            "Epoch 15/100\n",
            "23/24 [===========================>..] - ETA: 0s - loss: 0.4591 - accuracy: 0.8473\n",
            "Epoch 15: val_accuracy did not improve from 0.81145\n",
            "24/24 [==============================] - 1s 38ms/step - loss: 0.4581 - accuracy: 0.8473 - val_loss: 0.6002 - val_accuracy: 0.8069\n",
            "Epoch 16/100\n",
            "23/24 [===========================>..] - ETA: 0s - loss: 0.4460 - accuracy: 0.8519\n",
            "Epoch 16: val_accuracy improved from 0.81145 to 0.81374, saving model to saved_models/best_fcn.hdf5\n",
            "24/24 [==============================] - 1s 40ms/step - loss: 0.4496 - accuracy: 0.8506 - val_loss: 0.6038 - val_accuracy: 0.8137\n",
            "Epoch 17/100\n",
            "22/24 [==========================>...] - ETA: 0s - loss: 0.4213 - accuracy: 0.8606\n",
            "Epoch 17: val_accuracy improved from 0.81374 to 0.82290, saving model to saved_models/best_fcn.hdf5\n",
            "24/24 [==============================] - 1s 27ms/step - loss: 0.4229 - accuracy: 0.8613 - val_loss: 0.5560 - val_accuracy: 0.8229\n",
            "Epoch 18/100\n",
            "24/24 [==============================] - ETA: 0s - loss: 0.4017 - accuracy: 0.8668\n",
            "Epoch 18: val_accuracy improved from 0.82290 to 0.82595, saving model to saved_models/best_fcn.hdf5\n",
            "24/24 [==============================] - 1s 28ms/step - loss: 0.4017 - accuracy: 0.8668 - val_loss: 0.5745 - val_accuracy: 0.8260\n",
            "Epoch 19/100\n",
            "23/24 [===========================>..] - ETA: 0s - loss: 0.4161 - accuracy: 0.8614\n",
            "Epoch 19: val_accuracy did not improve from 0.82595\n",
            "24/24 [==============================] - 1s 26ms/step - loss: 0.4195 - accuracy: 0.8593 - val_loss: 0.6692 - val_accuracy: 0.7893\n",
            "Epoch 20/100\n",
            "22/24 [==========================>...] - ETA: 0s - loss: 0.4185 - accuracy: 0.8583\n",
            "Epoch 20: val_accuracy improved from 0.82595 to 0.84656, saving model to saved_models/best_fcn.hdf5\n",
            "24/24 [==============================] - 1s 27ms/step - loss: 0.4138 - accuracy: 0.8611 - val_loss: 0.5132 - val_accuracy: 0.8466\n",
            "Epoch 21/100\n",
            "22/24 [==========================>...] - ETA: 0s - loss: 0.3542 - accuracy: 0.8853\n",
            "Epoch 21: val_accuracy improved from 0.84656 to 0.85344, saving model to saved_models/best_fcn.hdf5\n",
            "24/24 [==============================] - 1s 28ms/step - loss: 0.3601 - accuracy: 0.8830 - val_loss: 0.5111 - val_accuracy: 0.8534\n",
            "Epoch 22/100\n",
            "24/24 [==============================] - ETA: 0s - loss: 0.3282 - accuracy: 0.8896\n",
            "Epoch 22: val_accuracy did not improve from 0.85344\n",
            "24/24 [==============================] - 1s 27ms/step - loss: 0.3282 - accuracy: 0.8896 - val_loss: 0.5023 - val_accuracy: 0.8435\n",
            "Epoch 23/100\n",
            "24/24 [==============================] - ETA: 0s - loss: 0.3077 - accuracy: 0.8963\n",
            "Epoch 23: val_accuracy improved from 0.85344 to 0.85573, saving model to saved_models/best_fcn.hdf5\n",
            "24/24 [==============================] - 1s 26ms/step - loss: 0.3077 - accuracy: 0.8963 - val_loss: 0.4788 - val_accuracy: 0.8557\n",
            "Epoch 24/100\n",
            "22/24 [==========================>...] - ETA: 0s - loss: 0.3117 - accuracy: 0.8977\n",
            "Epoch 24: val_accuracy did not improve from 0.85573\n",
            "24/24 [==============================] - 1s 24ms/step - loss: 0.3117 - accuracy: 0.8989 - val_loss: 0.5290 - val_accuracy: 0.8435\n",
            "Epoch 25/100\n",
            "22/24 [==========================>...] - ETA: 0s - loss: 0.3140 - accuracy: 0.8958\n",
            "Epoch 25: val_accuracy did not improve from 0.85573\n",
            "24/24 [==============================] - 1s 22ms/step - loss: 0.3141 - accuracy: 0.8958 - val_loss: 0.5027 - val_accuracy: 0.8489\n",
            "Epoch 26/100\n",
            "22/24 [==========================>...] - ETA: 0s - loss: 0.2728 - accuracy: 0.9126\n",
            "Epoch 26: val_accuracy did not improve from 0.85573\n",
            "24/24 [==============================] - 1s 23ms/step - loss: 0.2742 - accuracy: 0.9130 - val_loss: 0.5018 - val_accuracy: 0.8344\n",
            "Epoch 27/100\n",
            "22/24 [==========================>...] - ETA: 0s - loss: 0.2629 - accuracy: 0.9100\n",
            "Epoch 27: val_accuracy did not improve from 0.85573\n",
            "24/24 [==============================] - 1s 25ms/step - loss: 0.2609 - accuracy: 0.9115 - val_loss: 0.5023 - val_accuracy: 0.8527\n",
            "Epoch 28/100\n",
            "22/24 [==========================>...] - ETA: 0s - loss: 0.2800 - accuracy: 0.9038\n",
            "Epoch 28: val_accuracy did not improve from 0.85573\n",
            "24/24 [==============================] - 1s 23ms/step - loss: 0.2796 - accuracy: 0.9038 - val_loss: 0.5090 - val_accuracy: 0.8405\n",
            "Epoch 29/100\n",
            "22/24 [==========================>...] - ETA: 0s - loss: 0.2779 - accuracy: 0.9086\n",
            "Epoch 29: val_accuracy did not improve from 0.85573\n",
            "24/24 [==============================] - 1s 24ms/step - loss: 0.2721 - accuracy: 0.9116 - val_loss: 0.5281 - val_accuracy: 0.8473\n",
            "Epoch 30/100\n",
            "22/24 [==========================>...] - ETA: 0s - loss: 0.2399 - accuracy: 0.9252\n",
            "Epoch 30: val_accuracy improved from 0.85573 to 0.86489, saving model to saved_models/best_fcn.hdf5\n",
            "24/24 [==============================] - 1s 24ms/step - loss: 0.2368 - accuracy: 0.9265 - val_loss: 0.4637 - val_accuracy: 0.8649\n",
            "Epoch 31/100\n",
            "22/24 [==========================>...] - ETA: 0s - loss: 0.2123 - accuracy: 0.9332\n",
            "Epoch 31: val_accuracy improved from 0.86489 to 0.86718, saving model to saved_models/best_fcn.hdf5\n",
            "24/24 [==============================] - 1s 24ms/step - loss: 0.2113 - accuracy: 0.9331 - val_loss: 0.4611 - val_accuracy: 0.8672\n",
            "Epoch 32/100\n",
            "22/24 [==========================>...] - ETA: 0s - loss: 0.2185 - accuracy: 0.9249\n",
            "Epoch 32: val_accuracy did not improve from 0.86718\n",
            "24/24 [==============================] - 1s 23ms/step - loss: 0.2184 - accuracy: 0.9249 - val_loss: 0.4979 - val_accuracy: 0.8557\n",
            "Epoch 33/100\n",
            "22/24 [==========================>...] - ETA: 0s - loss: 0.2219 - accuracy: 0.9297\n",
            "Epoch 33: val_accuracy did not improve from 0.86718\n",
            "24/24 [==============================] - 1s 24ms/step - loss: 0.2196 - accuracy: 0.9308 - val_loss: 0.4859 - val_accuracy: 0.8588\n",
            "Epoch 34/100\n",
            "22/24 [==========================>...] - ETA: 0s - loss: 0.2012 - accuracy: 0.9331\n",
            "Epoch 34: val_accuracy did not improve from 0.86718\n",
            "24/24 [==============================] - 1s 23ms/step - loss: 0.2017 - accuracy: 0.9329 - val_loss: 0.5101 - val_accuracy: 0.8450\n",
            "Epoch 35/100\n",
            "22/24 [==========================>...] - ETA: 0s - loss: 0.1964 - accuracy: 0.9352\n",
            "Epoch 35: val_accuracy did not improve from 0.86718\n",
            "24/24 [==============================] - 1s 23ms/step - loss: 0.1957 - accuracy: 0.9357 - val_loss: 0.4817 - val_accuracy: 0.8603\n",
            "Epoch 36/100\n",
            "22/24 [==========================>...] - ETA: 0s - loss: 0.1704 - accuracy: 0.9444\n",
            "Epoch 36: val_accuracy improved from 0.86718 to 0.86794, saving model to saved_models/best_fcn.hdf5\n",
            "24/24 [==============================] - 1s 24ms/step - loss: 0.1741 - accuracy: 0.9437 - val_loss: 0.4443 - val_accuracy: 0.8679\n",
            "Epoch 37/100\n",
            "22/24 [==========================>...] - ETA: 0s - loss: 0.1870 - accuracy: 0.9370\n",
            "Epoch 37: val_accuracy improved from 0.86794 to 0.87939, saving model to saved_models/best_fcn.hdf5\n",
            "24/24 [==============================] - 1s 25ms/step - loss: 0.1869 - accuracy: 0.9370 - val_loss: 0.4392 - val_accuracy: 0.8794\n",
            "Epoch 38/100\n",
            "22/24 [==========================>...] - ETA: 0s - loss: 0.1738 - accuracy: 0.9423\n",
            "Epoch 38: val_accuracy did not improve from 0.87939\n",
            "24/24 [==============================] - 1s 23ms/step - loss: 0.1750 - accuracy: 0.9422 - val_loss: 0.5420 - val_accuracy: 0.8366\n",
            "Epoch 39/100\n",
            "22/24 [==========================>...] - ETA: 0s - loss: 0.1713 - accuracy: 0.9411\n",
            "Epoch 39: val_accuracy did not improve from 0.87939\n",
            "24/24 [==============================] - 1s 24ms/step - loss: 0.1732 - accuracy: 0.9408 - val_loss: 0.4884 - val_accuracy: 0.8679\n",
            "Epoch 40/100\n",
            "22/24 [==========================>...] - ETA: 0s - loss: 0.1582 - accuracy: 0.9446\n",
            "Epoch 40: val_accuracy did not improve from 0.87939\n",
            "24/24 [==============================] - 1s 24ms/step - loss: 0.1613 - accuracy: 0.9426 - val_loss: 0.4133 - val_accuracy: 0.8794\n",
            "Epoch 41/100\n",
            "24/24 [==============================] - ETA: 0s - loss: 0.1368 - accuracy: 0.9576\n",
            "Epoch 41: val_accuracy did not improve from 0.87939\n",
            "24/24 [==============================] - 1s 25ms/step - loss: 0.1368 - accuracy: 0.9576 - val_loss: 0.4223 - val_accuracy: 0.8786\n",
            "Epoch 42/100\n",
            "23/24 [===========================>..] - ETA: 0s - loss: 0.1263 - accuracy: 0.9587\n",
            "Epoch 42: val_accuracy improved from 0.87939 to 0.88244, saving model to saved_models/best_fcn.hdf5\n",
            "24/24 [==============================] - 1s 28ms/step - loss: 0.1267 - accuracy: 0.9586 - val_loss: 0.4244 - val_accuracy: 0.8824\n",
            "Epoch 43/100\n",
            "24/24 [==============================] - ETA: 0s - loss: 0.1598 - accuracy: 0.9450\n",
            "Epoch 43: val_accuracy did not improve from 0.88244\n",
            "24/24 [==============================] - 1s 26ms/step - loss: 0.1598 - accuracy: 0.9450 - val_loss: 0.5088 - val_accuracy: 0.8573\n",
            "Epoch 44/100\n",
            "22/24 [==========================>...] - ETA: 0s - loss: 0.1446 - accuracy: 0.9526\n",
            "Epoch 44: val_accuracy did not improve from 0.88244\n",
            "24/24 [==============================] - 1s 26ms/step - loss: 0.1430 - accuracy: 0.9529 - val_loss: 0.4374 - val_accuracy: 0.8771\n",
            "Epoch 45/100\n",
            "22/24 [==========================>...] - ETA: 0s - loss: 0.1204 - accuracy: 0.9618\n",
            "Epoch 45: val_accuracy improved from 0.88244 to 0.88321, saving model to saved_models/best_fcn.hdf5\n",
            "24/24 [==============================] - 1s 28ms/step - loss: 0.1199 - accuracy: 0.9620 - val_loss: 0.4560 - val_accuracy: 0.8832\n",
            "Epoch 46/100\n",
            "22/24 [==========================>...] - ETA: 0s - loss: 0.1295 - accuracy: 0.9563\n",
            "Epoch 46: val_accuracy did not improve from 0.88321\n",
            "24/24 [==============================] - 1s 26ms/step - loss: 0.1310 - accuracy: 0.9550 - val_loss: 0.4436 - val_accuracy: 0.8702\n",
            "Epoch 47/100\n",
            "24/24 [==============================] - ETA: 0s - loss: 0.1114 - accuracy: 0.9648\n",
            "Epoch 47: val_accuracy did not improve from 0.88321\n",
            "24/24 [==============================] - 1s 27ms/step - loss: 0.1114 - accuracy: 0.9648 - val_loss: 0.4615 - val_accuracy: 0.8763\n",
            "Epoch 48/100\n",
            "24/24 [==============================] - ETA: 0s - loss: 0.0976 - accuracy: 0.9688\n",
            "Epoch 48: val_accuracy did not improve from 0.88321\n",
            "24/24 [==============================] - 1s 26ms/step - loss: 0.0976 - accuracy: 0.9688 - val_loss: 0.4445 - val_accuracy: 0.8763\n",
            "Epoch 49/100\n",
            "24/24 [==============================] - ETA: 0s - loss: 0.0955 - accuracy: 0.9694\n",
            "Epoch 49: val_accuracy did not improve from 0.88321\n",
            "24/24 [==============================] - 1s 27ms/step - loss: 0.0955 - accuracy: 0.9694 - val_loss: 0.4906 - val_accuracy: 0.8656\n",
            "Epoch 50/100\n",
            "23/24 [===========================>..] - ETA: 0s - loss: 0.0802 - accuracy: 0.9762\n",
            "Epoch 50: val_accuracy improved from 0.88321 to 0.89084, saving model to saved_models/best_fcn.hdf5\n",
            "24/24 [==============================] - 1s 28ms/step - loss: 0.0791 - accuracy: 0.9766 - val_loss: 0.4410 - val_accuracy: 0.8908\n",
            "Epoch 51/100\n",
            "22/24 [==========================>...] - ETA: 0s - loss: 0.0678 - accuracy: 0.9824\n",
            "Epoch 51: val_accuracy did not improve from 0.89084\n",
            "24/24 [==============================] - 1s 23ms/step - loss: 0.0695 - accuracy: 0.9817 - val_loss: 0.4541 - val_accuracy: 0.8893\n",
            "Epoch 52/100\n",
            "22/24 [==========================>...] - ETA: 0s - loss: 0.0798 - accuracy: 0.9737\n",
            "Epoch 52: val_accuracy did not improve from 0.89084\n",
            "24/24 [==============================] - 1s 24ms/step - loss: 0.0801 - accuracy: 0.9740 - val_loss: 0.5212 - val_accuracy: 0.8695\n",
            "Epoch 53/100\n",
            "22/24 [==========================>...] - ETA: 0s - loss: 0.0886 - accuracy: 0.9696\n",
            "Epoch 53: val_accuracy did not improve from 0.89084\n",
            "24/24 [==============================] - 1s 34ms/step - loss: 0.0877 - accuracy: 0.9701 - val_loss: 0.4727 - val_accuracy: 0.8870\n",
            "Epoch 54/100\n",
            "22/24 [==========================>...] - ETA: 0s - loss: 0.1145 - accuracy: 0.9581\n",
            "Epoch 54: val_accuracy did not improve from 0.89084\n",
            "24/24 [==============================] - 1s 23ms/step - loss: 0.1106 - accuracy: 0.9602 - val_loss: 0.5018 - val_accuracy: 0.8740\n",
            "Epoch 55/100\n",
            "22/24 [==========================>...] - ETA: 0s - loss: 0.1003 - accuracy: 0.9668\n",
            "Epoch 55: val_accuracy did not improve from 0.89084\n",
            "24/24 [==============================] - 1s 23ms/step - loss: 0.0974 - accuracy: 0.9676 - val_loss: 0.4830 - val_accuracy: 0.8779\n",
            "Epoch 56/100\n",
            "22/24 [==========================>...] - ETA: 0s - loss: 0.0780 - accuracy: 0.9771\n",
            "Epoch 56: val_accuracy did not improve from 0.89084\n",
            "24/24 [==============================] - 1s 23ms/step - loss: 0.0800 - accuracy: 0.9759 - val_loss: 0.4502 - val_accuracy: 0.8870\n",
            "Epoch 57/100\n",
            "22/24 [==========================>...] - ETA: 0s - loss: 0.0874 - accuracy: 0.9711\n",
            "Epoch 57: val_accuracy did not improve from 0.89084\n",
            "24/24 [==============================] - 1s 23ms/step - loss: 0.0900 - accuracy: 0.9701 - val_loss: 0.4667 - val_accuracy: 0.8824\n",
            "Epoch 58/100\n",
            "22/24 [==========================>...] - ETA: 0s - loss: 0.1229 - accuracy: 0.9567\n",
            "Epoch 58: val_accuracy did not improve from 0.89084\n",
            "24/24 [==============================] - 1s 23ms/step - loss: 0.1225 - accuracy: 0.9570 - val_loss: 0.5020 - val_accuracy: 0.8740\n",
            "Epoch 59/100\n",
            "22/24 [==========================>...] - ETA: 0s - loss: 0.0915 - accuracy: 0.9686\n",
            "Epoch 59: val_accuracy did not improve from 0.89084\n",
            "24/24 [==============================] - 1s 23ms/step - loss: 0.0894 - accuracy: 0.9699 - val_loss: 0.4623 - val_accuracy: 0.8870\n",
            "Epoch 60/100\n",
            "22/24 [==========================>...] - ETA: 0s - loss: 0.0636 - accuracy: 0.9810\n",
            "Epoch 60: val_accuracy improved from 0.89084 to 0.89847, saving model to saved_models/best_fcn.hdf5\n",
            "24/24 [==============================] - 1s 24ms/step - loss: 0.0649 - accuracy: 0.9805 - val_loss: 0.4608 - val_accuracy: 0.8985\n",
            "Epoch 61/100\n",
            "22/24 [==========================>...] - ETA: 0s - loss: 0.0545 - accuracy: 0.9830\n",
            "Epoch 61: val_accuracy did not improve from 0.89847\n",
            "24/24 [==============================] - 1s 24ms/step - loss: 0.0538 - accuracy: 0.9836 - val_loss: 0.4608 - val_accuracy: 0.8977\n",
            "Epoch 62/100\n",
            "22/24 [==========================>...] - ETA: 0s - loss: 0.0479 - accuracy: 0.9877\n",
            "Epoch 62: val_accuracy did not improve from 0.89847\n",
            "24/24 [==============================] - 1s 24ms/step - loss: 0.0495 - accuracy: 0.9867 - val_loss: 0.5426 - val_accuracy: 0.8786\n",
            "Epoch 63/100\n",
            "22/24 [==========================>...] - ETA: 0s - loss: 0.0574 - accuracy: 0.9840\n",
            "Epoch 63: val_accuracy did not improve from 0.89847\n",
            "24/24 [==============================] - 1s 23ms/step - loss: 0.0567 - accuracy: 0.9841 - val_loss: 0.4988 - val_accuracy: 0.8702\n",
            "Epoch 64/100\n",
            "22/24 [==========================>...] - ETA: 0s - loss: 0.0709 - accuracy: 0.9767\n",
            "Epoch 64: val_accuracy did not improve from 0.89847\n",
            "24/24 [==============================] - 1s 23ms/step - loss: 0.0697 - accuracy: 0.9769 - val_loss: 0.4974 - val_accuracy: 0.8832\n",
            "Epoch 65/100\n",
            "22/24 [==========================>...] - ETA: 0s - loss: 0.0614 - accuracy: 0.9819\n",
            "Epoch 65: val_accuracy did not improve from 0.89847\n",
            "24/24 [==============================] - 1s 23ms/step - loss: 0.0627 - accuracy: 0.9810 - val_loss: 0.4758 - val_accuracy: 0.8817\n",
            "Epoch 66/100\n",
            "22/24 [==========================>...] - ETA: 0s - loss: 0.0582 - accuracy: 0.9814\n",
            "Epoch 66: val_accuracy did not improve from 0.89847\n",
            "24/24 [==============================] - 1s 24ms/step - loss: 0.0575 - accuracy: 0.9815 - val_loss: 0.4840 - val_accuracy: 0.8786\n",
            "Epoch 67/100\n",
            "22/24 [==========================>...] - ETA: 0s - loss: 0.0536 - accuracy: 0.9830\n",
            "Epoch 67: val_accuracy did not improve from 0.89847\n",
            "24/24 [==============================] - 1s 23ms/step - loss: 0.0527 - accuracy: 0.9833 - val_loss: 0.4927 - val_accuracy: 0.8878\n",
            "Epoch 68/100\n",
            "24/24 [==============================] - ETA: 0s - loss: 0.0528 - accuracy: 0.9853\n",
            "Epoch 68: val_accuracy did not improve from 0.89847\n",
            "24/24 [==============================] - 1s 27ms/step - loss: 0.0528 - accuracy: 0.9853 - val_loss: 0.4908 - val_accuracy: 0.8855\n",
            "Epoch 69/100\n",
            "22/24 [==========================>...] - ETA: 0s - loss: 0.0639 - accuracy: 0.9782\n",
            "Epoch 69: val_accuracy did not improve from 0.89847\n",
            "24/24 [==============================] - 1s 25ms/step - loss: 0.0667 - accuracy: 0.9771 - val_loss: 0.5733 - val_accuracy: 0.8710\n",
            "Epoch 70/100\n",
            "23/24 [===========================>..] - ETA: 0s - loss: 0.0604 - accuracy: 0.9808\n",
            "Epoch 70: val_accuracy did not improve from 0.89847\n",
            "24/24 [==============================] - 1s 26ms/step - loss: 0.0606 - accuracy: 0.9805 - val_loss: 0.5056 - val_accuracy: 0.8878\n",
            "Epoch 71/100\n",
            "22/24 [==========================>...] - ETA: 0s - loss: 0.0655 - accuracy: 0.9766\n",
            "Epoch 71: val_accuracy did not improve from 0.89847\n",
            "24/24 [==============================] - 1s 26ms/step - loss: 0.0643 - accuracy: 0.9774 - val_loss: 0.5974 - val_accuracy: 0.8603\n",
            "Epoch 72/100\n",
            "24/24 [==============================] - ETA: 0s - loss: 0.0631 - accuracy: 0.9805\n",
            "Epoch 72: val_accuracy did not improve from 0.89847\n",
            "24/24 [==============================] - 1s 27ms/step - loss: 0.0631 - accuracy: 0.9805 - val_loss: 0.5050 - val_accuracy: 0.8924\n",
            "Epoch 73/100\n",
            "23/24 [===========================>..] - ETA: 0s - loss: 0.0510 - accuracy: 0.9835\n",
            "Epoch 73: val_accuracy did not improve from 0.89847\n",
            "24/24 [==============================] - 1s 30ms/step - loss: 0.0528 - accuracy: 0.9822 - val_loss: 0.5460 - val_accuracy: 0.8809\n",
            "Epoch 74/100\n",
            "22/24 [==========================>...] - ETA: 0s - loss: 0.0486 - accuracy: 0.9844\n",
            "Epoch 74: val_accuracy did not improve from 0.89847\n",
            "24/24 [==============================] - 1s 26ms/step - loss: 0.0510 - accuracy: 0.9833 - val_loss: 0.5815 - val_accuracy: 0.8687\n",
            "Epoch 75/100\n",
            "22/24 [==========================>...] - ETA: 0s - loss: 0.0605 - accuracy: 0.9794\n",
            "Epoch 75: val_accuracy did not improve from 0.89847\n",
            "24/24 [==============================] - 1s 26ms/step - loss: 0.0589 - accuracy: 0.9799 - val_loss: 0.5060 - val_accuracy: 0.8855\n",
            "Epoch 76/100\n",
            "22/24 [==========================>...] - ETA: 0s - loss: 0.0417 - accuracy: 0.9877\n",
            "Epoch 76: val_accuracy did not improve from 0.89847\n",
            "24/24 [==============================] - 1s 25ms/step - loss: 0.0413 - accuracy: 0.9882 - val_loss: 0.4687 - val_accuracy: 0.8947\n",
            "Epoch 77/100\n",
            "22/24 [==========================>...] - ETA: 0s - loss: 0.0312 - accuracy: 0.9922\n",
            "Epoch 77: val_accuracy improved from 0.89847 to 0.89924, saving model to saved_models/best_fcn.hdf5\n",
            "24/24 [==============================] - 1s 27ms/step - loss: 0.0304 - accuracy: 0.9923 - val_loss: 0.4630 - val_accuracy: 0.8992\n",
            "Epoch 78/100\n",
            "22/24 [==========================>...] - ETA: 0s - loss: 0.0194 - accuracy: 0.9961\n",
            "Epoch 78: val_accuracy improved from 0.89924 to 0.90534, saving model to saved_models/best_fcn.hdf5\n",
            "24/24 [==============================] - 1s 25ms/step - loss: 0.0196 - accuracy: 0.9961 - val_loss: 0.4779 - val_accuracy: 0.9053\n",
            "Epoch 79/100\n",
            "22/24 [==========================>...] - ETA: 0s - loss: 0.0173 - accuracy: 0.9975\n",
            "Epoch 79: val_accuracy did not improve from 0.90534\n",
            "24/24 [==============================] - 1s 25ms/step - loss: 0.0171 - accuracy: 0.9975 - val_loss: 0.4692 - val_accuracy: 0.8977\n",
            "Epoch 80/100\n",
            "22/24 [==========================>...] - ETA: 0s - loss: 0.0153 - accuracy: 0.9975\n",
            "Epoch 80: val_accuracy improved from 0.90534 to 0.90763, saving model to saved_models/best_fcn.hdf5\n",
            "24/24 [==============================] - 1s 25ms/step - loss: 0.0157 - accuracy: 0.9972 - val_loss: 0.4699 - val_accuracy: 0.9076\n",
            "Epoch 81/100\n",
            "22/24 [==========================>...] - ETA: 0s - loss: 0.0142 - accuracy: 0.9975\n",
            "Epoch 81: val_accuracy did not improve from 0.90763\n",
            "24/24 [==============================] - 1s 23ms/step - loss: 0.0139 - accuracy: 0.9975 - val_loss: 0.4904 - val_accuracy: 0.9038\n",
            "Epoch 82/100\n",
            "22/24 [==========================>...] - ETA: 0s - loss: 0.0119 - accuracy: 0.9980\n",
            "Epoch 82: val_accuracy did not improve from 0.90763\n",
            "24/24 [==============================] - 1s 24ms/step - loss: 0.0124 - accuracy: 0.9977 - val_loss: 0.4984 - val_accuracy: 0.9031\n",
            "Epoch 83/100\n",
            "22/24 [==========================>...] - ETA: 0s - loss: 0.0159 - accuracy: 0.9963\n",
            "Epoch 83: val_accuracy did not improve from 0.90763\n",
            "24/24 [==============================] - 1s 23ms/step - loss: 0.0158 - accuracy: 0.9964 - val_loss: 0.4959 - val_accuracy: 0.9069\n",
            "Epoch 84/100\n",
            "22/24 [==========================>...] - ETA: 0s - loss: 0.0155 - accuracy: 0.9964\n",
            "Epoch 84: val_accuracy did not improve from 0.90763\n",
            "24/24 [==============================] - 1s 24ms/step - loss: 0.0156 - accuracy: 0.9964 - val_loss: 0.5235 - val_accuracy: 0.8947\n",
            "Epoch 85/100\n",
            "22/24 [==========================>...] - ETA: 0s - loss: 0.0138 - accuracy: 0.9973\n",
            "Epoch 85: val_accuracy did not improve from 0.90763\n",
            "24/24 [==============================] - 1s 24ms/step - loss: 0.0136 - accuracy: 0.9975 - val_loss: 0.5372 - val_accuracy: 0.8992\n",
            "Epoch 86/100\n",
            "22/24 [==========================>...] - ETA: 0s - loss: 0.0114 - accuracy: 0.9984\n",
            "Epoch 86: val_accuracy did not improve from 0.90763\n",
            "24/24 [==============================] - 1s 23ms/step - loss: 0.0118 - accuracy: 0.9984 - val_loss: 0.5256 - val_accuracy: 0.9053\n",
            "Epoch 87/100\n",
            "22/24 [==========================>...] - ETA: 0s - loss: 0.0106 - accuracy: 0.9980\n",
            "Epoch 87: val_accuracy did not improve from 0.90763\n",
            "24/24 [==============================] - 1s 23ms/step - loss: 0.0102 - accuracy: 0.9982 - val_loss: 0.5383 - val_accuracy: 0.8992\n",
            "Epoch 88/100\n",
            "22/24 [==========================>...] - ETA: 0s - loss: 0.0146 - accuracy: 0.9970\n",
            "Epoch 88: val_accuracy did not improve from 0.90763\n",
            "24/24 [==============================] - 1s 23ms/step - loss: 0.0140 - accuracy: 0.9971 - val_loss: 0.5123 - val_accuracy: 0.9046\n",
            "Epoch 89/100\n",
            "22/24 [==========================>...] - ETA: 0s - loss: 0.0101 - accuracy: 0.9979\n",
            "Epoch 89: val_accuracy did not improve from 0.90763\n",
            "24/24 [==============================] - 1s 23ms/step - loss: 0.0109 - accuracy: 0.9977 - val_loss: 0.5250 - val_accuracy: 0.9046\n",
            "Epoch 90/100\n",
            "22/24 [==========================>...] - ETA: 0s - loss: 0.0186 - accuracy: 0.9945\n",
            "Epoch 90: val_accuracy did not improve from 0.90763\n",
            "24/24 [==============================] - 1s 23ms/step - loss: 0.0179 - accuracy: 0.9949 - val_loss: 0.5865 - val_accuracy: 0.8947\n",
            "Epoch 91/100\n",
            "22/24 [==========================>...] - ETA: 0s - loss: 0.0152 - accuracy: 0.9959\n",
            "Epoch 91: val_accuracy did not improve from 0.90763\n",
            "24/24 [==============================] - 1s 24ms/step - loss: 0.0151 - accuracy: 0.9959 - val_loss: 0.5580 - val_accuracy: 0.8977\n",
            "Epoch 92/100\n",
            "22/24 [==========================>...] - ETA: 0s - loss: 0.0149 - accuracy: 0.9964\n",
            "Epoch 92: val_accuracy did not improve from 0.90763\n",
            "24/24 [==============================] - 1s 24ms/step - loss: 0.0152 - accuracy: 0.9966 - val_loss: 0.5602 - val_accuracy: 0.9008\n",
            "Epoch 93/100\n",
            "22/24 [==========================>...] - ETA: 0s - loss: 0.0140 - accuracy: 0.9970\n",
            "Epoch 93: val_accuracy did not improve from 0.90763\n",
            "24/24 [==============================] - 1s 23ms/step - loss: 0.0145 - accuracy: 0.9969 - val_loss: 0.6876 - val_accuracy: 0.8817\n",
            "Epoch 94/100\n",
            "22/24 [==========================>...] - ETA: 0s - loss: 0.0918 - accuracy: 0.9711\n",
            "Epoch 94: val_accuracy did not improve from 0.90763\n",
            "24/24 [==============================] - 1s 24ms/step - loss: 0.0922 - accuracy: 0.9704 - val_loss: 0.7123 - val_accuracy: 0.8687\n",
            "Epoch 95/100\n",
            "22/24 [==========================>...] - ETA: 0s - loss: 0.0846 - accuracy: 0.9716\n",
            "Epoch 95: val_accuracy did not improve from 0.90763\n",
            "24/24 [==============================] - 1s 26ms/step - loss: 0.0846 - accuracy: 0.9707 - val_loss: 0.5867 - val_accuracy: 0.8748\n",
            "Epoch 96/100\n",
            "22/24 [==========================>...] - ETA: 0s - loss: 0.0608 - accuracy: 0.9794\n",
            "Epoch 96: val_accuracy did not improve from 0.90763\n",
            "24/24 [==============================] - 1s 26ms/step - loss: 0.0614 - accuracy: 0.9792 - val_loss: 0.6238 - val_accuracy: 0.8802\n",
            "Epoch 97/100\n",
            "22/24 [==========================>...] - ETA: 0s - loss: 0.0595 - accuracy: 0.9805\n",
            "Epoch 97: val_accuracy did not improve from 0.90763\n",
            "24/24 [==============================] - 1s 26ms/step - loss: 0.0583 - accuracy: 0.9810 - val_loss: 0.6024 - val_accuracy: 0.8847\n",
            "Epoch 98/100\n",
            "22/24 [==========================>...] - ETA: 0s - loss: 0.1827 - accuracy: 0.9492\n",
            "Epoch 98: val_accuracy did not improve from 0.90763\n",
            "24/24 [==============================] - 1s 27ms/step - loss: 0.1985 - accuracy: 0.9440 - val_loss: 0.5937 - val_accuracy: 0.8710\n",
            "Epoch 99/100\n",
            "24/24 [==============================] - ETA: 0s - loss: 0.2039 - accuracy: 0.9364\n",
            "Epoch 99: val_accuracy did not improve from 0.90763\n",
            "24/24 [==============================] - 1s 30ms/step - loss: 0.2039 - accuracy: 0.9364 - val_loss: 0.7130 - val_accuracy: 0.8351\n",
            "Epoch 100/100\n",
            "24/24 [==============================] - ETA: 0s - loss: 0.1120 - accuracy: 0.9596\n",
            "Epoch 100: val_accuracy did not improve from 0.90763\n",
            "24/24 [==============================] - 1s 27ms/step - loss: 0.1120 - accuracy: 0.9596 - val_loss: 0.5255 - val_accuracy: 0.8718\n"
          ]
        }
      ]
    },
    {
      "cell_type": "code",
      "metadata": {
        "id": "x7lYwwrwDGey"
      },
      "source": [
        "# Load the best model\n",
        "best_model = load_model('saved_models/best_fcn.hdf5')"
      ],
      "execution_count": 79,
      "outputs": []
    },
    {
      "cell_type": "markdown",
      "metadata": {
        "id": "AvkVp34YEwRG"
      },
      "source": [
        "Looks like the model has overfitted to the training data towards the end of the training. We have selected the model that performed better on the validation set, saved by the checkpoint. The similarity between validation and test score tells us that our training methodology is correct and that our validation set is a good estimator of testing performance."
      ]
    },
    {
      "cell_type": "code",
      "metadata": {
        "id": "T5a-BhlFDGj1",
        "outputId": "e5f01c9a-5be3-454a-eb25-67ebfb95bdfd",
        "colab": {
          "base_uri": "https://localhost:8080/"
        }
      },
      "source": [
        "# Evaluating the model on the training and testing set\n",
        "score = best_model.evaluate(X_train, Y_train, verbose=0)\n",
        "print(\"Training Accuracy: \", score[1])\n",
        "\n",
        "score = best_model.evaluate(X_val, Y_val, verbose=0)\n",
        "print(\"Validation Accuracy: \", score[1])\n",
        "\n",
        "score = best_model.evaluate(X_test, Y_test, verbose=0)\n",
        "print(\"Testing Accuracy: \", score[1])"
      ],
      "execution_count": 80,
      "outputs": [
        {
          "output_type": "stream",
          "name": "stdout",
          "text": [
            "Training Accuracy:  0.9978730082511902\n",
            "Validation Accuracy:  0.9076336026191711\n",
            "Testing Accuracy:  0.8977099061012268\n"
          ]
        }
      ]
    },
    {
      "cell_type": "markdown",
      "metadata": {
        "id": "B5wvOmYNBcZT"
      },
      "source": [
        "We see that there has been overfitting so we could train another model adding dropout before the last layer to add more regularization.  "
      ]
    },
    {
      "cell_type": "code",
      "metadata": {
        "id": "PCA2qchv5JN9",
        "outputId": "7b19f398-bd3c-4511-cf8d-40fd0bf32404",
        "colab": {
          "base_uri": "https://localhost:8080/"
        }
      },
      "source": [
        "# We add a dropout ratio of 0.25\n",
        "fcn_model = create_model(input_shape=X_train.shape[1:], dropout_ratio=0.5)\n",
        "fcn_model.compile(loss='categorical_crossentropy', metrics=['accuracy'], optimizer='adam')\n",
        "fcn_model.summary()"
      ],
      "execution_count": 81,
      "outputs": [
        {
          "output_type": "stream",
          "name": "stdout",
          "text": [
            "Model: \"sequential_10\"\n",
            "_________________________________________________________________\n",
            " Layer (type)                Output Shape              Param #   \n",
            "=================================================================\n",
            " conv2d_13 (Conv2D)          (None, 38, 171, 16)       144       \n",
            "                                                                 \n",
            " max_pooling2d_3 (MaxPoolin  (None, 19, 57, 16)        0         \n",
            " g2D)                                                            \n",
            "                                                                 \n",
            " conv2d_14 (Conv2D)          (None, 18, 54, 32)        4128      \n",
            "                                                                 \n",
            " max_pooling2d_4 (MaxPoolin  (None, 9, 27, 32)         0         \n",
            " g2D)                                                            \n",
            "                                                                 \n",
            " conv2d_15 (Conv2D)          (None, 8, 24, 64)         16448     \n",
            "                                                                 \n",
            " max_pooling2d_5 (MaxPoolin  (None, 4, 12, 64)         0         \n",
            " g2D)                                                            \n",
            "                                                                 \n",
            " conv2d_16 (Conv2D)          (None, 3, 9, 128)         65664     \n",
            "                                                                 \n",
            " global_average_pooling2d_1  (None, 128)               0         \n",
            "  (GlobalAveragePooling2D)                                       \n",
            "                                                                 \n",
            " dropout (Dropout)           (None, 128)               0         \n",
            "                                                                 \n",
            " dense_1 (Dense)             (None, 10)                1290      \n",
            "                                                                 \n",
            "=================================================================\n",
            "Total params: 87674 (342.48 KB)\n",
            "Trainable params: 87674 (342.48 KB)\n",
            "Non-trainable params: 0 (0.00 Byte)\n",
            "_________________________________________________________________\n"
          ]
        }
      ]
    },
    {
      "cell_type": "code",
      "metadata": {
        "id": "F3YhwGSN5JRd",
        "outputId": "117164f3-66ce-44ff-df63-2ed57f4a6f2c",
        "colab": {
          "base_uri": "https://localhost:8080/"
        }
      },
      "source": [
        "checkpointer = ModelCheckpoint(filepath='saved_models/best_fcn_dropout.hdf5', monitor='val_accuracy',\n",
        "                               verbose=1, save_best_only=True)\n",
        "callbacks = [checkpointer]\n",
        "\n",
        "model = train_model(model=fcn_model,\n",
        "                    X_train=X_train,\n",
        "                    X_val=X_val,\n",
        "                    Y_train=Y_train,\n",
        "                    Y_val=Y_val,\n",
        "                    epochs=200,\n",
        "                    batch_size=256,\n",
        "                    callbacks=callbacks)"
      ],
      "execution_count": null,
      "outputs": [
        {
          "output_type": "stream",
          "name": "stdout",
          "text": [
            "Epoch 1/200\n",
            "24/24 [==============================] - ETA: 0s - loss: 2.4844 - accuracy: 0.1990\n",
            "Epoch 1: val_accuracy improved from -inf to 0.35954, saving model to saved_models/best_fcn_dropout.hdf5\n",
            "24/24 [==============================] - 3s 38ms/step - loss: 2.4844 - accuracy: 0.1990 - val_loss: 1.8854 - val_accuracy: 0.3595\n",
            "Epoch 2/200\n",
            "22/24 [==========================>...] - ETA: 0s - loss: 1.7932 - accuracy: 0.3500\n",
            "Epoch 2: val_accuracy improved from 0.35954 to 0.46565, saving model to saved_models/best_fcn_dropout.hdf5\n",
            "24/24 [==============================] - 1s 25ms/step - loss: 1.7747 - accuracy: 0.3562 - val_loss: 1.5150 - val_accuracy: 0.4656\n",
            "Epoch 3/200\n",
            "22/24 [==========================>...] - ETA: 0s - loss: 1.5438 - accuracy: 0.4517\n",
            "Epoch 3: val_accuracy improved from 0.46565 to 0.54351, saving model to saved_models/best_fcn_dropout.hdf5\n",
            "24/24 [==============================] - 1s 25ms/step - loss: 1.5399 - accuracy: 0.4540 - val_loss: 1.3471 - val_accuracy: 0.5435\n",
            "Epoch 4/200\n",
            "22/24 [==========================>...] - ETA: 0s - loss: 1.4100 - accuracy: 0.5128\n",
            "Epoch 4: val_accuracy improved from 0.54351 to 0.55344, saving model to saved_models/best_fcn_dropout.hdf5\n",
            "24/24 [==============================] - 1s 24ms/step - loss: 1.4051 - accuracy: 0.5131 - val_loss: 1.2466 - val_accuracy: 0.5534\n",
            "Epoch 5/200\n",
            "22/24 [==========================>...] - ETA: 0s - loss: 1.2876 - accuracy: 0.5504\n",
            "Epoch 5: val_accuracy improved from 0.55344 to 0.60305, saving model to saved_models/best_fcn_dropout.hdf5\n",
            "24/24 [==============================] - 1s 26ms/step - loss: 1.2894 - accuracy: 0.5502 - val_loss: 1.1653 - val_accuracy: 0.6031\n",
            "Epoch 6/200\n",
            "24/24 [==============================] - ETA: 0s - loss: 1.2178 - accuracy: 0.5813\n",
            "Epoch 6: val_accuracy improved from 0.60305 to 0.63664, saving model to saved_models/best_fcn_dropout.hdf5\n",
            "24/24 [==============================] - 1s 29ms/step - loss: 1.2178 - accuracy: 0.5813 - val_loss: 1.0661 - val_accuracy: 0.6366\n",
            "Epoch 7/200\n",
            "22/24 [==========================>...] - ETA: 0s - loss: 1.1698 - accuracy: 0.6030\n",
            "Epoch 7: val_accuracy did not improve from 0.63664\n",
            "24/24 [==============================] - 1s 26ms/step - loss: 1.1648 - accuracy: 0.6032 - val_loss: 1.0295 - val_accuracy: 0.6359\n",
            "Epoch 8/200\n",
            "22/24 [==========================>...] - ETA: 0s - loss: 1.0569 - accuracy: 0.6360\n",
            "Epoch 8: val_accuracy improved from 0.63664 to 0.68550, saving model to saved_models/best_fcn_dropout.hdf5\n",
            "24/24 [==============================] - 1s 26ms/step - loss: 1.0596 - accuracy: 0.6363 - val_loss: 0.9597 - val_accuracy: 0.6855\n",
            "Epoch 9/200\n",
            "24/24 [==============================] - ETA: 0s - loss: 1.0357 - accuracy: 0.6387\n",
            "Epoch 9: val_accuracy improved from 0.68550 to 0.68779, saving model to saved_models/best_fcn_dropout.hdf5\n",
            "24/24 [==============================] - 1s 28ms/step - loss: 1.0357 - accuracy: 0.6387 - val_loss: 0.9602 - val_accuracy: 0.6878\n",
            "Epoch 10/200\n",
            "22/24 [==========================>...] - ETA: 0s - loss: 0.9560 - accuracy: 0.6784\n",
            "Epoch 10: val_accuracy improved from 0.68779 to 0.71374, saving model to saved_models/best_fcn_dropout.hdf5\n",
            "24/24 [==============================] - 1s 27ms/step - loss: 0.9563 - accuracy: 0.6767 - val_loss: 0.8427 - val_accuracy: 0.7137\n",
            "Epoch 11/200\n",
            "24/24 [==============================] - ETA: 0s - loss: 0.9151 - accuracy: 0.6855\n",
            "Epoch 11: val_accuracy improved from 0.71374 to 0.73282, saving model to saved_models/best_fcn_dropout.hdf5\n",
            "24/24 [==============================] - 1s 28ms/step - loss: 0.9151 - accuracy: 0.6855 - val_loss: 0.8023 - val_accuracy: 0.7328\n",
            "Epoch 12/200\n",
            "24/24 [==============================] - ETA: 0s - loss: 0.8772 - accuracy: 0.7044\n",
            "Epoch 12: val_accuracy improved from 0.73282 to 0.75115, saving model to saved_models/best_fcn_dropout.hdf5\n",
            "24/24 [==============================] - 1s 28ms/step - loss: 0.8772 - accuracy: 0.7044 - val_loss: 0.7629 - val_accuracy: 0.7511\n",
            "Epoch 13/200\n",
            "22/24 [==========================>...] - ETA: 0s - loss: 0.8336 - accuracy: 0.7127\n",
            "Epoch 13: val_accuracy did not improve from 0.75115\n",
            "24/24 [==============================] - 1s 27ms/step - loss: 0.8372 - accuracy: 0.7124 - val_loss: 0.7557 - val_accuracy: 0.7458\n",
            "Epoch 14/200\n",
            "23/24 [===========================>..] - ETA: 0s - loss: 0.8090 - accuracy: 0.7201\n",
            "Epoch 14: val_accuracy improved from 0.75115 to 0.75573, saving model to saved_models/best_fcn_dropout.hdf5\n",
            "24/24 [==============================] - 1s 29ms/step - loss: 0.8047 - accuracy: 0.7214 - val_loss: 0.7423 - val_accuracy: 0.7557\n",
            "Epoch 15/200\n",
            "22/24 [==========================>...] - ETA: 0s - loss: 0.7765 - accuracy: 0.7381\n",
            "Epoch 15: val_accuracy improved from 0.75573 to 0.76260, saving model to saved_models/best_fcn_dropout.hdf5\n",
            "24/24 [==============================] - 1s 25ms/step - loss: 0.7765 - accuracy: 0.7358 - val_loss: 0.6935 - val_accuracy: 0.7626\n",
            "Epoch 16/200\n",
            "22/24 [==========================>...] - ETA: 0s - loss: 0.7483 - accuracy: 0.7495\n",
            "Epoch 16: val_accuracy improved from 0.76260 to 0.78244, saving model to saved_models/best_fcn_dropout.hdf5\n",
            "24/24 [==============================] - 1s 25ms/step - loss: 0.7479 - accuracy: 0.7477 - val_loss: 0.6658 - val_accuracy: 0.7824\n",
            "Epoch 17/200\n",
            "22/24 [==========================>...] - ETA: 0s - loss: 0.6997 - accuracy: 0.7644\n",
            "Epoch 17: val_accuracy improved from 0.78244 to 0.79695, saving model to saved_models/best_fcn_dropout.hdf5\n",
            "24/24 [==============================] - 1s 25ms/step - loss: 0.7071 - accuracy: 0.7629 - val_loss: 0.6481 - val_accuracy: 0.7969\n",
            "Epoch 18/200\n",
            "22/24 [==========================>...] - ETA: 0s - loss: 0.6755 - accuracy: 0.7749\n",
            "Epoch 18: val_accuracy improved from 0.79695 to 0.80687, saving model to saved_models/best_fcn_dropout.hdf5\n",
            "24/24 [==============================] - 1s 25ms/step - loss: 0.6720 - accuracy: 0.7752 - val_loss: 0.6263 - val_accuracy: 0.8069\n",
            "Epoch 19/200\n",
            "22/24 [==========================>...] - ETA: 0s - loss: 0.6571 - accuracy: 0.7791\n",
            "Epoch 19: val_accuracy did not improve from 0.80687\n",
            "24/24 [==============================] - 1s 23ms/step - loss: 0.6627 - accuracy: 0.7783 - val_loss: 0.6293 - val_accuracy: 0.8023\n",
            "Epoch 20/200\n",
            "22/24 [==========================>...] - ETA: 0s - loss: 0.6569 - accuracy: 0.7757\n",
            "Epoch 20: val_accuracy did not improve from 0.80687\n",
            "24/24 [==============================] - 1s 23ms/step - loss: 0.6499 - accuracy: 0.7790 - val_loss: 0.6147 - val_accuracy: 0.7924\n",
            "Epoch 21/200\n",
            "22/24 [==========================>...] - ETA: 0s - loss: 0.6216 - accuracy: 0.7905\n",
            "Epoch 21: val_accuracy did not improve from 0.80687\n",
            "24/24 [==============================] - 1s 22ms/step - loss: 0.6199 - accuracy: 0.7906 - val_loss: 0.6114 - val_accuracy: 0.7924\n",
            "Epoch 22/200\n",
            "22/24 [==========================>...] - ETA: 0s - loss: 0.5913 - accuracy: 0.7995\n",
            "Epoch 22: val_accuracy improved from 0.80687 to 0.81908, saving model to saved_models/best_fcn_dropout.hdf5\n",
            "24/24 [==============================] - 1s 25ms/step - loss: 0.5945 - accuracy: 0.7994 - val_loss: 0.5761 - val_accuracy: 0.8191\n",
            "Epoch 23/200\n",
            "22/24 [==========================>...] - ETA: 0s - loss: 0.5915 - accuracy: 0.8026\n",
            "Epoch 23: val_accuracy improved from 0.81908 to 0.82366, saving model to saved_models/best_fcn_dropout.hdf5\n",
            "24/24 [==============================] - 1s 24ms/step - loss: 0.5919 - accuracy: 0.8033 - val_loss: 0.5530 - val_accuracy: 0.8237\n",
            "Epoch 24/200\n",
            "22/24 [==========================>...] - ETA: 0s - loss: 0.5760 - accuracy: 0.8130\n",
            "Epoch 24: val_accuracy improved from 0.82366 to 0.82901, saving model to saved_models/best_fcn_dropout.hdf5\n",
            "24/24 [==============================] - 1s 24ms/step - loss: 0.5796 - accuracy: 0.8100 - val_loss: 0.5399 - val_accuracy: 0.8290\n",
            "Epoch 25/200\n",
            "22/24 [==========================>...] - ETA: 0s - loss: 0.5623 - accuracy: 0.8155\n",
            "Epoch 25: val_accuracy improved from 0.82901 to 0.83817, saving model to saved_models/best_fcn_dropout.hdf5\n",
            "24/24 [==============================] - 1s 25ms/step - loss: 0.5639 - accuracy: 0.8141 - val_loss: 0.5275 - val_accuracy: 0.8382\n",
            "Epoch 26/200\n",
            "22/24 [==========================>...] - ETA: 0s - loss: 0.5489 - accuracy: 0.8196\n",
            "Epoch 26: val_accuracy did not improve from 0.83817\n",
            "24/24 [==============================] - 1s 23ms/step - loss: 0.5448 - accuracy: 0.8215 - val_loss: 0.5220 - val_accuracy: 0.8321\n",
            "Epoch 27/200\n",
            "22/24 [==========================>...] - ETA: 0s - loss: 0.5279 - accuracy: 0.8214\n",
            "Epoch 27: val_accuracy improved from 0.83817 to 0.84351, saving model to saved_models/best_fcn_dropout.hdf5\n",
            "24/24 [==============================] - 1s 25ms/step - loss: 0.5188 - accuracy: 0.8244 - val_loss: 0.4989 - val_accuracy: 0.8435\n",
            "Epoch 28/200\n",
            "22/24 [==========================>...] - ETA: 0s - loss: 0.5148 - accuracy: 0.8224\n",
            "Epoch 28: val_accuracy did not improve from 0.84351\n",
            "24/24 [==============================] - 1s 24ms/step - loss: 0.5091 - accuracy: 0.8251 - val_loss: 0.5257 - val_accuracy: 0.8229\n",
            "Epoch 29/200\n",
            "22/24 [==========================>...] - ETA: 0s - loss: 0.5230 - accuracy: 0.8173\n",
            "Epoch 29: val_accuracy did not improve from 0.84351\n",
            "24/24 [==============================] - 1s 23ms/step - loss: 0.5197 - accuracy: 0.8184 - val_loss: 0.4975 - val_accuracy: 0.8389\n",
            "Epoch 30/200\n",
            "22/24 [==========================>...] - ETA: 0s - loss: 0.5026 - accuracy: 0.8278\n",
            "Epoch 30: val_accuracy did not improve from 0.84351\n",
            "24/24 [==============================] - 1s 23ms/step - loss: 0.4973 - accuracy: 0.8310 - val_loss: 0.5089 - val_accuracy: 0.8305\n",
            "Epoch 31/200\n",
            "22/24 [==========================>...] - ETA: 0s - loss: 0.4671 - accuracy: 0.8459\n",
            "Epoch 31: val_accuracy improved from 0.84351 to 0.85191, saving model to saved_models/best_fcn_dropout.hdf5\n",
            "24/24 [==============================] - 1s 24ms/step - loss: 0.4725 - accuracy: 0.8431 - val_loss: 0.4663 - val_accuracy: 0.8519\n",
            "Epoch 32/200\n",
            "23/24 [===========================>..] - ETA: 0s - loss: 0.4438 - accuracy: 0.8473\n",
            "Epoch 32: val_accuracy did not improve from 0.85191\n",
            "24/24 [==============================] - 1s 26ms/step - loss: 0.4418 - accuracy: 0.8483 - val_loss: 0.4988 - val_accuracy: 0.8359\n",
            "Epoch 33/200\n",
            "22/24 [==========================>...] - ETA: 0s - loss: 0.4452 - accuracy: 0.8523\n",
            "Epoch 33: val_accuracy improved from 0.85191 to 0.85420, saving model to saved_models/best_fcn_dropout.hdf5\n",
            "24/24 [==============================] - 1s 32ms/step - loss: 0.4459 - accuracy: 0.8498 - val_loss: 0.4525 - val_accuracy: 0.8542\n",
            "Epoch 34/200\n",
            "22/24 [==========================>...] - ETA: 0s - loss: 0.4392 - accuracy: 0.8501\n",
            "Epoch 34: val_accuracy did not improve from 0.85420\n",
            "24/24 [==============================] - 1s 25ms/step - loss: 0.4418 - accuracy: 0.8513 - val_loss: 0.4703 - val_accuracy: 0.8450\n",
            "Epoch 35/200\n",
            "22/24 [==========================>...] - ETA: 0s - loss: 0.4319 - accuracy: 0.8539\n",
            "Epoch 35: val_accuracy improved from 0.85420 to 0.85649, saving model to saved_models/best_fcn_dropout.hdf5\n",
            "24/24 [==============================] - 1s 28ms/step - loss: 0.4298 - accuracy: 0.8547 - val_loss: 0.4551 - val_accuracy: 0.8565\n",
            "Epoch 36/200\n",
            "24/24 [==============================] - ETA: 0s - loss: 0.4271 - accuracy: 0.8545\n",
            "Epoch 36: val_accuracy did not improve from 0.85649\n",
            "24/24 [==============================] - 1s 28ms/step - loss: 0.4271 - accuracy: 0.8545 - val_loss: 0.4579 - val_accuracy: 0.8527\n",
            "Epoch 37/200\n",
            "22/24 [==========================>...] - ETA: 0s - loss: 0.3985 - accuracy: 0.8643\n",
            "Epoch 37: val_accuracy did not improve from 0.85649\n",
            "24/24 [==============================] - 1s 27ms/step - loss: 0.3980 - accuracy: 0.8645 - val_loss: 0.4654 - val_accuracy: 0.8443\n",
            "Epoch 38/200\n",
            "22/24 [==========================>...] - ETA: 0s - loss: 0.4166 - accuracy: 0.8560\n",
            "Epoch 38: val_accuracy improved from 0.85649 to 0.86183, saving model to saved_models/best_fcn_dropout.hdf5\n"
          ]
        }
      ]
    },
    {
      "cell_type": "code",
      "metadata": {
        "id": "yTyotHRpAMbB"
      },
      "source": [
        "best_model = load_model('saved_models/best_fcn_dropout.hdf5')"
      ],
      "execution_count": null,
      "outputs": []
    },
    {
      "cell_type": "code",
      "metadata": {
        "id": "5UK4BTzRB_1Q"
      },
      "source": [
        "# Evaluating the model on the training and testing set\n",
        "score = best_model.evaluate(X_train, Y_train, verbose=0)\n",
        "print(\"Training Accuracy: \", score[1])\n",
        "\n",
        "score = best_model.evaluate(X_val, Y_val, verbose=0)\n",
        "print(\"Validation Accuracy: \", score[1])\n",
        "\n",
        "score = best_model.evaluate(X_test, Y_test, verbose=0)\n",
        "print(\"Testing Accuracy: \", score[1])"
      ],
      "execution_count": null,
      "outputs": []
    },
    {
      "cell_type": "code",
      "metadata": {
        "id": "inagrMP3A4rB"
      },
      "source": [
        "# Plot a confusion matrix\n",
        "from sklearn import metrics\n",
        "Y_pred = best_model.predict(X_test)\n",
        "matrix = metrics.confusion_matrix(Y_test.argmax(axis=1), Y_pred.argmax(axis=1))"
      ],
      "execution_count": null,
      "outputs": []
    },
    {
      "cell_type": "code",
      "metadata": {
        "id": "SzTmmTg6A4oy"
      },
      "source": [
        "# Confusion matrix code (from https://github.com/triagemd/keras-eval/blob/master/keras_eval/visualizer.py)\n",
        "def plot_confusion_matrix(cm, concepts, normalize=False, show_text=True, fontsize=18, figsize=(16, 12),\n",
        "                          cmap=plt.cm.coolwarm_r, save_path=None, show_labels=True):\n",
        "    '''\n",
        "    Plot confusion matrix provided in 'cm'\n",
        "    Args:\n",
        "        cm: Confusion Matrix, square sized numpy array\n",
        "        concepts: Name of the categories to show\n",
        "        normalize: If True, normalize values between 0 and ones. Not valid if negative values.\n",
        "        show_text: If True, display cell values as text. Otherwise only display cell colors.\n",
        "        fontsize: Size of text\n",
        "        figsize: Size of figure\n",
        "        cmap: Color choice\n",
        "        save_path: If `save_path` specified, save confusion matrix in that location\n",
        "    Returns: Nothing. Plots confusion matrix\n",
        "    '''\n",
        "\n",
        "    if cm.ndim != 2 or cm.shape[0] != cm.shape[1]:\n",
        "        raise ValueError('Invalid confusion matrix shape, it should be square and ndim=2')\n",
        "\n",
        "    if cm.shape[0] != len(concepts) or cm.shape[1] != len(concepts):\n",
        "        raise ValueError('Number of concepts (%i) and dimensions of confusion matrix do not coincide (%i, %i)' %\n",
        "                         (len(concepts), cm.shape[0], cm.shape[1]))\n",
        "\n",
        "    plt.rcParams.update({'font.size': fontsize})\n",
        "\n",
        "    cm_normalized = cm.astype('float') / cm.sum(axis=1)[:, np.newaxis]\n",
        "\n",
        "    if normalize:\n",
        "        cm = cm_normalized\n",
        "\n",
        "    fig = plt.figure(figsize=figsize)\n",
        "    ax = fig.add_subplot(111)\n",
        "    cax = ax.matshow(cm, vmin=np.min(cm), vmax=np.max(cm), alpha=0.8, cmap=cmap)\n",
        "\n",
        "    fig.colorbar(cax)\n",
        "    ax.xaxis.tick_bottom()\n",
        "    plt.ylabel('True label', fontweight='bold')\n",
        "    plt.xlabel('Predicted label', fontweight='bold')\n",
        "\n",
        "    if show_labels:\n",
        "        n_labels = len(concepts)\n",
        "        ax.set_xticklabels(concepts)\n",
        "        ax.set_yticklabels(concepts)\n",
        "        plt.xticks(np.arange(0, n_labels, 1.0), rotation='vertical')\n",
        "        plt.yticks(np.arange(0, n_labels, 1.0))\n",
        "    else:\n",
        "        plt.axis('off')\n",
        "\n",
        "    if show_text:\n",
        "        # http://stackoverflow.com/questions/21712047/matplotlib-imshow-matshow-display-values-on-plot\n",
        "        min_val, max_val = 0, len(concepts)\n",
        "        ind_array = np.arange(min_val, max_val, 1.0)\n",
        "        x, y = np.meshgrid(ind_array, ind_array)\n",
        "        for i, (x_val, y_val) in enumerate(zip(x.flatten(), y.flatten())):\n",
        "            c = cm[int(x_val), int(y_val)]\n",
        "            ax.text(y_val, x_val, c, va='center', ha='center')\n",
        "\n",
        "    if save_path is not None:\n",
        "        plt.savefig(save_path)"
      ],
      "execution_count": null,
      "outputs": []
    },
    {
      "cell_type": "markdown",
      "metadata": {
        "id": "MX4fa42o1zyW"
      },
      "source": [
        "To observe better the performance of the model and the mistakes made between different classes we plot the confusion matrix.\n",
        "\n",
        "In our case accuracy is a good metric because the dataset is mostly balanced but we observed a few classes with less samples (1`car_horn`, `gun_shot` and `siren`), so it will be good to observe the performance on these classes.\n",
        "\n",
        "We can observe that a lot of mistakes are happening between class `children_playing` and class `street_music` so maybe it will be worth it to spend a little bit more time doing analysis and finding what could be the reasons.  "
      ]
    },
    {
      "cell_type": "code",
      "metadata": {
        "id": "7WabP5FBC8ph"
      },
      "source": [
        "class_dictionary = {3: 'dog_bark', 2: 'children_playing', 1: 'car_horn', 0: 'air_conditioner', 9: 'street_music', 6: 'gun_shot', 8: 'siren', 5: 'engine_idling', 7: 'jackhammer', 4: 'drilling'}\n",
        "classes = [class_dictionary[key] for key in sorted(class_dictionary.keys())]"
      ],
      "execution_count": null,
      "outputs": []
    },
    {
      "cell_type": "code",
      "metadata": {
        "id": "BIsWLoxGHHOv"
      },
      "source": [
        "plot_confusion_matrix(matrix, classes)"
      ],
      "execution_count": null,
      "outputs": []
    },
    {
      "cell_type": "markdown",
      "metadata": {
        "id": "12pnVV0xLiBr"
      },
      "source": [
        "## Conclusions\n",
        "\n",
        "We can observe a bump of 1-2% in the test set accuracy when introducing dropout as regularization. This shows that it has been a successful addition to our model.\n",
        "\n",
        "There are many things that we can try to improve the model's performance such as:\n",
        "\n",
        "- Hyperparameter tuning:\n",
        "  - Tuning the parameters of feature extraction\n",
        "  - Tuning the network parameters (number of layers, pooling layers, number and filter shape...)\n",
        "  - Tuning the network hyperparameters (Learning rate, optimizer)\n",
        "\n",
        "- Feature extraction:\n",
        "  - Use STFT: The raw spectogram could provide more information to the CNN to learn correlation between frequency and time than the MFCCs.\n",
        "  - Use Mel-Spectogram: The mel-spectogram could provide more information to the CNN to learn correlation between frequency and time than the MFCCs."
      ]
    }
  ]
}